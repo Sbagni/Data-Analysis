{
 "cells": [
  {
   "cell_type": "code",
   "execution_count": 2,
   "metadata": {},
   "outputs": [],
   "source": [
    "import pandas as pd\n",
    "import wbdata\n",
    "import datetime\n",
    "import matplotlib.pyplot as plt\n",
    "import numpy as np"
   ]
  },
  {
   "cell_type": "code",
   "execution_count": 3,
   "metadata": {},
   "outputs": [],
   "source": [
    "data = pd.read_csv('../Dataset/Population_Pyramid.csv')"
   ]
  },
  {
   "cell_type": "code",
   "execution_count": 4,
   "metadata": {},
   "outputs": [
    {
     "data": {
      "text/html": [
       "<div>\n",
       "<style scoped>\n",
       "    .dataframe tbody tr th:only-of-type {\n",
       "        vertical-align: middle;\n",
       "    }\n",
       "\n",
       "    .dataframe tbody tr th {\n",
       "        vertical-align: top;\n",
       "    }\n",
       "\n",
       "    .dataframe thead th {\n",
       "        text-align: right;\n",
       "    }\n",
       "</style>\n",
       "<table border=\"1\" class=\"dataframe\">\n",
       "  <thead>\n",
       "    <tr style=\"text-align: right;\">\n",
       "      <th></th>\n",
       "      <th>Age group</th>\n",
       "      <th>2008</th>\n",
       "      <th>2010</th>\n",
       "      <th>2012</th>\n",
       "      <th>2014</th>\n",
       "      <th>2016</th>\n",
       "      <th>2018</th>\n",
       "    </tr>\n",
       "  </thead>\n",
       "  <tbody>\n",
       "    <tr>\n",
       "      <th>0</th>\n",
       "      <td>20 to 24 years</td>\n",
       "      <td>2264625</td>\n",
       "      <td>2321972</td>\n",
       "      <td>2389961</td>\n",
       "      <td>2423034</td>\n",
       "      <td>2387191</td>\n",
       "      <td>2437542</td>\n",
       "    </tr>\n",
       "    <tr>\n",
       "      <th>1</th>\n",
       "      <td>25 to 29 years</td>\n",
       "      <td>2272852</td>\n",
       "      <td>2357383</td>\n",
       "      <td>2383927</td>\n",
       "      <td>2413496</td>\n",
       "      <td>2466106</td>\n",
       "      <td>2573476</td>\n",
       "    </tr>\n",
       "    <tr>\n",
       "      <th>2</th>\n",
       "      <td>30 to 34 years</td>\n",
       "      <td>2207388</td>\n",
       "      <td>2283236</td>\n",
       "      <td>2368073</td>\n",
       "      <td>2447837</td>\n",
       "      <td>2488660</td>\n",
       "      <td>2550512</td>\n",
       "    </tr>\n",
       "    <tr>\n",
       "      <th>3</th>\n",
       "      <td>35 to 39 years</td>\n",
       "      <td>2299965</td>\n",
       "      <td>2282303</td>\n",
       "      <td>2291997</td>\n",
       "      <td>2349272</td>\n",
       "      <td>2410025</td>\n",
       "      <td>2514450</td>\n",
       "    </tr>\n",
       "    <tr>\n",
       "      <th>4</th>\n",
       "      <td>40 to 44 years</td>\n",
       "      <td>2548685</td>\n",
       "      <td>2403059</td>\n",
       "      <td>2381473</td>\n",
       "      <td>2362412</td>\n",
       "      <td>2342178</td>\n",
       "      <td>2378927</td>\n",
       "    </tr>\n",
       "    <tr>\n",
       "      <th>5</th>\n",
       "      <td>45 to 49 years</td>\n",
       "      <td>2754800</td>\n",
       "      <td>2780175</td>\n",
       "      <td>2657781</td>\n",
       "      <td>2503611</td>\n",
       "      <td>2431118</td>\n",
       "      <td>2405692</td>\n",
       "    </tr>\n",
       "    <tr>\n",
       "      <th>6</th>\n",
       "      <td>50 to 54 years</td>\n",
       "      <td>2527565</td>\n",
       "      <td>2634392</td>\n",
       "      <td>2726209</td>\n",
       "      <td>2786582</td>\n",
       "      <td>2734564</td>\n",
       "      <td>2578047</td>\n",
       "    </tr>\n",
       "    <tr>\n",
       "      <th>7</th>\n",
       "      <td>55 to 59 years</td>\n",
       "      <td>2152651</td>\n",
       "      <td>2286060</td>\n",
       "      <td>2431791</td>\n",
       "      <td>2566359</td>\n",
       "      <td>2665850</td>\n",
       "      <td>2726152</td>\n",
       "    </tr>\n",
       "    <tr>\n",
       "      <th>8</th>\n",
       "      <td>60 to 64 years</td>\n",
       "      <td>1810185</td>\n",
       "      <td>1981245</td>\n",
       "      <td>2070138</td>\n",
       "      <td>2171609</td>\n",
       "      <td>2313160</td>\n",
       "      <td>2456212</td>\n",
       "    </tr>\n",
       "  </tbody>\n",
       "</table>\n",
       "</div>"
      ],
      "text/plain": [
       "        Age group     2008     2010     2012     2014     2016     2018\n",
       "0  20 to 24 years  2264625  2321972  2389961  2423034  2387191  2437542\n",
       "1  25 to 29 years  2272852  2357383  2383927  2413496  2466106  2573476\n",
       "2  30 to 34 years  2207388  2283236  2368073  2447837  2488660  2550512\n",
       "3  35 to 39 years  2299965  2282303  2291997  2349272  2410025  2514450\n",
       "4  40 to 44 years  2548685  2403059  2381473  2362412  2342178  2378927\n",
       "5  45 to 49 years  2754800  2780175  2657781  2503611  2431118  2405692\n",
       "6  50 to 54 years  2527565  2634392  2726209  2786582  2734564  2578047\n",
       "7  55 to 59 years  2152651  2286060  2431791  2566359  2665850  2726152\n",
       "8  60 to 64 years  1810185  1981245  2070138  2171609  2313160  2456212"
      ]
     },
     "execution_count": 4,
     "metadata": {},
     "output_type": "execute_result"
    }
   ],
   "source": [
    "data = data.iloc[5:14]\n",
    "data = data.reset_index(drop=True)\n",
    "data"
   ]
  },
  {
   "cell_type": "code",
   "execution_count": 5,
   "metadata": {},
   "outputs": [],
   "source": [
    "graphdata = []\n",
    "for x,y in data.iterrows():\n",
    "    graphdata.append(list(y[1:]))"
   ]
  },
  {
   "cell_type": "code",
   "execution_count": 6,
   "metadata": {},
   "outputs": [],
   "source": [
    "labels = list(data['Age group'])"
   ]
  },
  {
   "cell_type": "code",
   "execution_count": 7,
   "metadata": {},
   "outputs": [],
   "source": [
    "x = np.arange(len(data.iloc[:,1:].keys()))\n",
    "w=0.1"
   ]
  },
  {
   "cell_type": "code",
   "execution_count": 10,
   "metadata": {},
   "outputs": [
    {
     "data": {
      "image/png": "[encoded data removed]",
      "text/plain": [
       "<Figure size 864x504 with 1 Axes>"
      ]
     },
     "metadata": {
      "needs_background": "light"
     },
     "output_type": "display_data"
    }
   ],
   "source": [
    "fig = plt.figure(figsize=(12, 7))\n",
    "ax = fig.add_subplot(111)\n",
    "i=0\n",
    "for i in range(len(graphdata)):\n",
    "    ax.bar(x+w*i,graphdata[i],w-.015,label=labels[i])\n",
    "\n",
    "ax.autoscale(tight=True)\n",
    "\n",
    "\n",
    "plt.legend(loc=(0.2,-.35),ncol=3,fancybox=True,shadow=True,columnspacing=5,labelspacing=.7,fontsize=13)\n",
    "plt.xticks(x+w*i/2,np.array(data.iloc[:,1:].keys()))\n",
    "plt.tight_layout()\n",
    "plt.ylim(0,3000000)\n",
    "plt.title(\"Age Histogram\")\n",
    "plt.ylabel(\"Population\")\n",
    "plt.xlabel(\"Years\\nAge Group\")\n",
    "plt.savefig('agegroup.png')\n",
    "\n",
    "plt.grid(axis='y',linestyle='--')\n",
    "plt.show()"
   ]
  },
  {
   "cell_type": "code",
   "execution_count": null,
   "metadata": {},
   "outputs": [],
   "source": []
  },
  {
   "cell_type": "code",
   "execution_count": null,
   "metadata": {},
   "outputs": [],
   "source": []
  }
 ],
 "metadata": {
  "kernelspec": {
   "display_name": "Python 3",
   "language": "python",
   "name": "python3"
  },
  "language_info": {
   "codemirror_mode": {
    "name": "ipython",
    "version": 3
   },
   "file_extension": ".py",
   "mimetype": "text/x-python",
   "name": "python",
   "nbconvert_exporter": "python",
   "pygments_lexer": "ipython3",
   "version": "3.7.3"
  }
 },
 "nbformat": 4,
 "nbformat_minor": 2
}
