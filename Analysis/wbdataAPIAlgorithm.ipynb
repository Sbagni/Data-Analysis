{
 "cells": [
  {
   "cell_type": "code",
   "execution_count": 2,
   "metadata": {},
   "outputs": [],
   "source": [
    "import pandas as pd\n",
    "import wbdata\n",
    "import datetime\n",
    "import matplotlib.pyplot as plt"
   ]
  },
  {
   "cell_type": "code",
   "execution_count": 3,
   "metadata": {},
   "outputs": [
    {
     "name": "stdout",
     "output_type": "stream",
     "text": [
      "1 \tAgriculture & Rural Development\n",
      "2 \tAid Effectiveness\n",
      "3 \tEconomy & Growth\n",
      "4 \tEducation\n",
      "5 \tEnergy & Mining\n",
      "6 \tEnvironment\n",
      "7 \tFinancial Sector\n",
      "8 \tHealth\n",
      "9 \tInfrastructure\n",
      "10\tSocial Protection & Labor\n",
      "11\tPoverty\n",
      "12\tPrivate Sector\n",
      "13\tPublic Sector\n",
      "14\tScience & Technology\n",
      "15\tSocial Development\n",
      "16\tUrban Development\n",
      "17\tGender\n",
      "18\tMillenium development goals\n",
      "19\tClimate Change\n",
      "20\tExternal Debt\n",
      "21\tTrade\n"
     ]
    }
   ],
   "source": [
    "wbdata.get_topic()"
   ]
  },
  {
   "cell_type": "code",
   "execution_count": 4,
   "metadata": {},
   "outputs": [],
   "source": [
    "#wbdata.get_indicator(source=1)"
   ]
  },
  {
   "cell_type": "code",
   "execution_count": 5,
   "metadata": {},
   "outputs": [
    {
     "name": "stdout",
     "output_type": "stream",
     "text": [
      "['Canada', 'China', 'India', 'Philippines']\n",
      "CAN\tCanada\n",
      "None\n",
      "CHN\tChina\n",
      "HKG\tHong Kong SAR, China\n",
      "MAC\tMacao SAR, China\n",
      "TWN\tTaiwan, China\n",
      "None\n",
      "IND\tIndia\n",
      "None\n",
      "PHL\tPhilippines\n",
      "None\n"
     ]
    }
   ],
   "source": [
    "#wbdata.search_indicators(\"unemployment\")\n",
    "countries=[\"Canada\",\"China\",\"India\",\"Philippines\"]\n",
    "print(countries)\n",
    "for country in countries:\n",
    "    print(wbdata.search_countries(country))\n",
    "   "
   ]
  },
  {
   "cell_type": "code",
   "execution_count": 6,
   "metadata": {},
   "outputs": [],
   "source": [
    "countries = ['CHN','IND','PHL','CAN']\n",
    "daterange = (datetime.datetime(2008, 1, 1), datetime.datetime(2019, 12, 31))\n",
    "factors={'gdp':'NY.GDP.MKTP.CD','population':'SP.POP.TOTL','unemmployment':'SL.UEM.TOTL.NE.ZS',\n",
    "           'age15t64':'SP.POP.1564.TO','cpi':'FP.CPI.TOTL','inflation':'FP.CPI.TOTL.ZG'}"
   ]
  },
  {
   "cell_type": "code",
   "execution_count": 7,
   "metadata": {},
   "outputs": [
    {
     "data": {
      "text/plain": [
       "{'gdp': 'NY.GDP.MKTP.CD',\n",
       " 'population': 'SP.POP.TOTL',\n",
       " 'unemmployment': 'SL.UEM.TOTL.NE.ZS',\n",
       " 'age15t64': 'SP.POP.1564.TO',\n",
       " 'cpi': 'FP.CPI.TOTL',\n",
       " 'inflation': 'FP.CPI.TOTL.ZG'}"
      ]
     },
     "execution_count": 7,
     "metadata": {},
     "output_type": "execute_result"
    }
   ],
   "source": [
    "factors"
   ]
  },
  {
   "cell_type": "code",
   "execution_count": 8,
   "metadata": {},
   "outputs": [],
   "source": [
    "def traverseDict(fact,data,row,field=\"\",i=0,length=0):\n",
    "    if type(data) == dict:        \n",
    "        for key, value in data.items():             \n",
    "            if type(value) not in [dict,list]:                  \n",
    "                field = field.strip()+key\n",
    "                i+=1\n",
    "                if field in dictdata.keys():                    \n",
    "                    dictdata[field].append(value)\n",
    "                else:                    \n",
    "                    dictdata[field] = [value]                    \n",
    "                if length>=i: field=\"\"\n",
    "            elif type(value) in [dict,list]:\n",
    "                length=len(value)\n",
    "                i=0\n",
    "                traverseDict(fact,value,row,key)     \n",
    "            elif type(value) == list:\n",
    "                field=\"\"\n",
    "                traverseDict(fact,data[0],row,key)    \n",
    "\n",
    "dictdata={'factor':[]}\n",
    "for factor, indicator in factors.items():\n",
    "    data = wbdata.get_data(indicator, country=(countries), data_date=daterange)    \n",
    "    for i in range(len(data)):    \n",
    "        dictdata['factor'].append(factor)\n",
    "        traverseDict(factor,data[i],i)\n",
    "        \n",
    "df = pd.DataFrame(dictdata)"
   ]
  },
  {
   "cell_type": "code",
   "execution_count": 9,
   "metadata": {},
   "outputs": [
    {
     "data": {
      "text/html": [
       "<div>\n",
       "<style scoped>\n",
       "    .dataframe tbody tr th:only-of-type {\n",
       "        vertical-align: middle;\n",
       "    }\n",
       "\n",
       "    .dataframe tbody tr th {\n",
       "        vertical-align: top;\n",
       "    }\n",
       "\n",
       "    .dataframe thead th {\n",
       "        text-align: right;\n",
       "    }\n",
       "</style>\n",
       "<table border=\"1\" class=\"dataframe\">\n",
       "  <thead>\n",
       "    <tr style=\"text-align: right;\">\n",
       "      <th></th>\n",
       "      <th>factor</th>\n",
       "      <th>indicatorid</th>\n",
       "      <th>indicatoridvalue</th>\n",
       "      <th>countryid</th>\n",
       "      <th>countryidvalue</th>\n",
       "      <th>value</th>\n",
       "      <th>decimal</th>\n",
       "      <th>date</th>\n",
       "    </tr>\n",
       "  </thead>\n",
       "  <tbody>\n",
       "    <tr>\n",
       "      <th>0</th>\n",
       "      <td>gdp</td>\n",
       "      <td>NY.GDP.MKTP.CD</td>\n",
       "      <td>GDP (current US$)</td>\n",
       "      <td>CA</td>\n",
       "      <td>Canada</td>\n",
       "      <td>1709327324240.04</td>\n",
       "      <td>0</td>\n",
       "      <td>2018</td>\n",
       "    </tr>\n",
       "    <tr>\n",
       "      <th>1</th>\n",
       "      <td>gdp</td>\n",
       "      <td>NY.GDP.MKTP.CD</td>\n",
       "      <td>GDP (current US$)</td>\n",
       "      <td>CA</td>\n",
       "      <td>Canada</td>\n",
       "      <td>1646867220617.47</td>\n",
       "      <td>0</td>\n",
       "      <td>2017</td>\n",
       "    </tr>\n",
       "    <tr>\n",
       "      <th>2</th>\n",
       "      <td>gdp</td>\n",
       "      <td>NY.GDP.MKTP.CD</td>\n",
       "      <td>GDP (current US$)</td>\n",
       "      <td>CA</td>\n",
       "      <td>Canada</td>\n",
       "      <td>1526705529135.32</td>\n",
       "      <td>0</td>\n",
       "      <td>2016</td>\n",
       "    </tr>\n",
       "    <tr>\n",
       "      <th>3</th>\n",
       "      <td>gdp</td>\n",
       "      <td>NY.GDP.MKTP.CD</td>\n",
       "      <td>GDP (current US$)</td>\n",
       "      <td>CA</td>\n",
       "      <td>Canada</td>\n",
       "      <td>1552899925233.71</td>\n",
       "      <td>0</td>\n",
       "      <td>2015</td>\n",
       "    </tr>\n",
       "    <tr>\n",
       "      <th>4</th>\n",
       "      <td>gdp</td>\n",
       "      <td>NY.GDP.MKTP.CD</td>\n",
       "      <td>GDP (current US$)</td>\n",
       "      <td>CA</td>\n",
       "      <td>Canada</td>\n",
       "      <td>1801480123070.82</td>\n",
       "      <td>0</td>\n",
       "      <td>2014</td>\n",
       "    </tr>\n",
       "  </tbody>\n",
       "</table>\n",
       "</div>"
      ],
      "text/plain": [
       "  factor     indicatorid   indicatoridvalue countryid countryidvalue  \\\n",
       "0    gdp  NY.GDP.MKTP.CD  GDP (current US$)        CA         Canada   \n",
       "1    gdp  NY.GDP.MKTP.CD  GDP (current US$)        CA         Canada   \n",
       "2    gdp  NY.GDP.MKTP.CD  GDP (current US$)        CA         Canada   \n",
       "3    gdp  NY.GDP.MKTP.CD  GDP (current US$)        CA         Canada   \n",
       "4    gdp  NY.GDP.MKTP.CD  GDP (current US$)        CA         Canada   \n",
       "\n",
       "              value decimal  date  \n",
       "0  1709327324240.04       0  2018  \n",
       "1  1646867220617.47       0  2017  \n",
       "2  1526705529135.32       0  2016  \n",
       "3  1552899925233.71       0  2015  \n",
       "4  1801480123070.82       0  2014  "
      ]
     },
     "execution_count": 9,
     "metadata": {},
     "output_type": "execute_result"
    }
   ],
   "source": [
    "#df = df.sort_values(['factor','countryid','date'])\n",
    "#df.to_csv('data.csv',index=False)\n",
    "df.head()"
   ]
  },
  {
   "cell_type": "code",
   "execution_count": null,
   "metadata": {},
   "outputs": [],
   "source": []
  },
  {
   "cell_type": "code",
   "execution_count": null,
   "metadata": {},
   "outputs": [],
   "source": []
  }
 ],
 "metadata": {
  "kernelspec": {
   "display_name": "Python 3",
   "language": "python",
   "name": "python3"
  },
  "language_info": {
   "codemirror_mode": {
    "name": "ipython",
    "version": 3
   },
   "file_extension": ".py",
   "mimetype": "text/x-python",
   "name": "python",
   "nbconvert_exporter": "python",
   "pygments_lexer": "ipython3",
   "version": "3.7.3"
  }
 },
 "nbformat": 4,
 "nbformat_minor": 2
}
