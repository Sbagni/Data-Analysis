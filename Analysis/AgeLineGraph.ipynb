{
 "cells": [
  {
   "cell_type": "code",
   "execution_count": 1,
   "metadata": {},
   "outputs": [],
   "source": [
    "import pandas as pd\n",
    "import datetime\n",
    "import matplotlib.pyplot as plt\n",
    "import numpy as np"
   ]
  },
  {
   "cell_type": "code",
   "execution_count": 2,
   "metadata": {},
   "outputs": [
    {
     "data": {
      "text/html": [
       "<div>\n",
       "<style scoped>\n",
       "    .dataframe tbody tr th:only-of-type {\n",
       "        vertical-align: middle;\n",
       "    }\n",
       "\n",
       "    .dataframe tbody tr th {\n",
       "        vertical-align: top;\n",
       "    }\n",
       "\n",
       "    .dataframe thead th {\n",
       "        text-align: right;\n",
       "    }\n",
       "</style>\n",
       "<table border=\"1\" class=\"dataframe\">\n",
       "  <thead>\n",
       "    <tr style=\"text-align: right;\">\n",
       "      <th></th>\n",
       "      <th>Age group</th>\n",
       "      <th>2008</th>\n",
       "      <th>2010</th>\n",
       "      <th>2012</th>\n",
       "      <th>2014</th>\n",
       "      <th>2016</th>\n",
       "      <th>2018</th>\n",
       "    </tr>\n",
       "  </thead>\n",
       "  <tbody>\n",
       "    <tr>\n",
       "      <th>0</th>\n",
       "      <td>All ages</td>\n",
       "      <td>33247118</td>\n",
       "      <td>34004889</td>\n",
       "      <td>34714222</td>\n",
       "      <td>35437435</td>\n",
       "      <td>36109487</td>\n",
       "      <td>37058856</td>\n",
       "    </tr>\n",
       "    <tr>\n",
       "      <th>1</th>\n",
       "      <td>0 to 4 years</td>\n",
       "      <td>1793552</td>\n",
       "      <td>1871905</td>\n",
       "      <td>1917338</td>\n",
       "      <td>1927705</td>\n",
       "      <td>1942791</td>\n",
       "      <td>1951024</td>\n",
       "    </tr>\n",
       "    <tr>\n",
       "      <th>2</th>\n",
       "      <td>5 to 9 years</td>\n",
       "      <td>1790489</td>\n",
       "      <td>1791169</td>\n",
       "      <td>1847505</td>\n",
       "      <td>1931039</td>\n",
       "      <td>2003223</td>\n",
       "      <td>2030883</td>\n",
       "    </tr>\n",
       "    <tr>\n",
       "      <th>3</th>\n",
       "      <td>10 to 14 years</td>\n",
       "      <td>2032298</td>\n",
       "      <td>1959099</td>\n",
       "      <td>1895451</td>\n",
       "      <td>1893264</td>\n",
       "      <td>1919810</td>\n",
       "      <td>1990826</td>\n",
       "    </tr>\n",
       "    <tr>\n",
       "      <th>4</th>\n",
       "      <td>15 to 19 years</td>\n",
       "      <td>2250947</td>\n",
       "      <td>2248876</td>\n",
       "      <td>2197641</td>\n",
       "      <td>2118889</td>\n",
       "      <td>2083843</td>\n",
       "      <td>2106893</td>\n",
       "    </tr>\n",
       "  </tbody>\n",
       "</table>\n",
       "</div>"
      ],
      "text/plain": [
       "        Age group      2008      2010      2012      2014      2016      2018\n",
       "0        All ages  33247118  34004889  34714222  35437435  36109487  37058856\n",
       "1    0 to 4 years   1793552   1871905   1917338   1927705   1942791   1951024\n",
       "2    5 to 9 years   1790489   1791169   1847505   1931039   2003223   2030883\n",
       "3  10 to 14 years   2032298   1959099   1895451   1893264   1919810   1990826\n",
       "4  15 to 19 years   2250947   2248876   2197641   2118889   2083843   2106893"
      ]
     },
     "execution_count": 2,
     "metadata": {},
     "output_type": "execute_result"
    }
   ],
   "source": [
    "csvdata = pd.read_csv('../Dataset/Population_Pyramid.csv')\n",
    "csvdata.head()"
   ]
  },
  {
   "cell_type": "code",
   "execution_count": 3,
   "metadata": {},
   "outputs": [
    {
     "data": {
      "text/html": [
       "<div>\n",
       "<style scoped>\n",
       "    .dataframe tbody tr th:only-of-type {\n",
       "        vertical-align: middle;\n",
       "    }\n",
       "\n",
       "    .dataframe tbody tr th {\n",
       "        vertical-align: top;\n",
       "    }\n",
       "\n",
       "    .dataframe thead th {\n",
       "        text-align: right;\n",
       "    }\n",
       "</style>\n",
       "<table border=\"1\" class=\"dataframe\">\n",
       "  <thead>\n",
       "    <tr style=\"text-align: right;\">\n",
       "      <th></th>\n",
       "      <th>Age group</th>\n",
       "      <th>2008</th>\n",
       "      <th>2010</th>\n",
       "      <th>2012</th>\n",
       "      <th>2014</th>\n",
       "      <th>2016</th>\n",
       "      <th>2018</th>\n",
       "      <th>field</th>\n",
       "    </tr>\n",
       "  </thead>\n",
       "  <tbody>\n",
       "    <tr>\n",
       "      <th>0</th>\n",
       "      <td>20 to 24 years</td>\n",
       "      <td>2264625</td>\n",
       "      <td>2321972</td>\n",
       "      <td>2389961</td>\n",
       "      <td>2423034</td>\n",
       "      <td>2387191</td>\n",
       "      <td>2437542</td>\n",
       "      <td></td>\n",
       "    </tr>\n",
       "    <tr>\n",
       "      <th>1</th>\n",
       "      <td>25 to 29 years</td>\n",
       "      <td>2272852</td>\n",
       "      <td>2357383</td>\n",
       "      <td>2383927</td>\n",
       "      <td>2413496</td>\n",
       "      <td>2466106</td>\n",
       "      <td>2573476</td>\n",
       "      <td></td>\n",
       "    </tr>\n",
       "    <tr>\n",
       "      <th>2</th>\n",
       "      <td>30 to 34 years</td>\n",
       "      <td>2207388</td>\n",
       "      <td>2283236</td>\n",
       "      <td>2368073</td>\n",
       "      <td>2447837</td>\n",
       "      <td>2488660</td>\n",
       "      <td>2550512</td>\n",
       "      <td></td>\n",
       "    </tr>\n",
       "    <tr>\n",
       "      <th>3</th>\n",
       "      <td>35 to 39 years</td>\n",
       "      <td>2299965</td>\n",
       "      <td>2282303</td>\n",
       "      <td>2291997</td>\n",
       "      <td>2349272</td>\n",
       "      <td>2410025</td>\n",
       "      <td>2514450</td>\n",
       "      <td></td>\n",
       "    </tr>\n",
       "    <tr>\n",
       "      <th>4</th>\n",
       "      <td>40 to 44 years</td>\n",
       "      <td>2548685</td>\n",
       "      <td>2403059</td>\n",
       "      <td>2381473</td>\n",
       "      <td>2362412</td>\n",
       "      <td>2342178</td>\n",
       "      <td>2378927</td>\n",
       "      <td></td>\n",
       "    </tr>\n",
       "    <tr>\n",
       "      <th>5</th>\n",
       "      <td>45 to 49 years</td>\n",
       "      <td>2754800</td>\n",
       "      <td>2780175</td>\n",
       "      <td>2657781</td>\n",
       "      <td>2503611</td>\n",
       "      <td>2431118</td>\n",
       "      <td>2405692</td>\n",
       "      <td></td>\n",
       "    </tr>\n",
       "    <tr>\n",
       "      <th>6</th>\n",
       "      <td>50 to 54 years</td>\n",
       "      <td>2527565</td>\n",
       "      <td>2634392</td>\n",
       "      <td>2726209</td>\n",
       "      <td>2786582</td>\n",
       "      <td>2734564</td>\n",
       "      <td>2578047</td>\n",
       "      <td></td>\n",
       "    </tr>\n",
       "    <tr>\n",
       "      <th>7</th>\n",
       "      <td>55 to 59 years</td>\n",
       "      <td>2152651</td>\n",
       "      <td>2286060</td>\n",
       "      <td>2431791</td>\n",
       "      <td>2566359</td>\n",
       "      <td>2665850</td>\n",
       "      <td>2726152</td>\n",
       "      <td></td>\n",
       "    </tr>\n",
       "    <tr>\n",
       "      <th>8</th>\n",
       "      <td>60 to 64 years</td>\n",
       "      <td>1810185</td>\n",
       "      <td>1981245</td>\n",
       "      <td>2070138</td>\n",
       "      <td>2171609</td>\n",
       "      <td>2313160</td>\n",
       "      <td>2456212</td>\n",
       "      <td></td>\n",
       "    </tr>\n",
       "  </tbody>\n",
       "</table>\n",
       "</div>"
      ],
      "text/plain": [
       "        Age group     2008     2010     2012     2014     2016     2018 field\n",
       "0  20 to 24 years  2264625  2321972  2389961  2423034  2387191  2437542      \n",
       "1  25 to 29 years  2272852  2357383  2383927  2413496  2466106  2573476      \n",
       "2  30 to 34 years  2207388  2283236  2368073  2447837  2488660  2550512      \n",
       "3  35 to 39 years  2299965  2282303  2291997  2349272  2410025  2514450      \n",
       "4  40 to 44 years  2548685  2403059  2381473  2362412  2342178  2378927      \n",
       "5  45 to 49 years  2754800  2780175  2657781  2503611  2431118  2405692      \n",
       "6  50 to 54 years  2527565  2634392  2726209  2786582  2734564  2578047      \n",
       "7  55 to 59 years  2152651  2286060  2431791  2566359  2665850  2726152      \n",
       "8  60 to 64 years  1810185  1981245  2070138  2171609  2313160  2456212      "
      ]
     },
     "execution_count": 3,
     "metadata": {},
     "output_type": "execute_result"
    }
   ],
   "source": [
    "data = csvdata.iloc[5:14].reset_index(drop=True)\n",
    "data['field'] = ''\n",
    "data"
   ]
  },
  {
   "cell_type": "code",
   "execution_count": 4,
   "metadata": {},
   "outputs": [
    {
     "name": "stderr",
     "output_type": "stream",
     "text": [
      "C:\\ProgramData\\Anaconda3\\lib\\site-packages\\pandas\\core\\indexing.py:190: SettingWithCopyWarning: \n",
      "A value is trying to be set on a copy of a slice from a DataFrame\n",
      "\n",
      "See the caveats in the documentation: http://pandas.pydata.org/pandas-docs/stable/indexing.html#indexing-view-versus-copy\n",
      "  self._setitem_with_indexer(indexer, value)\n"
     ]
    }
   ],
   "source": [
    "data.field.iloc[0:3]=1\n",
    "data.field.iloc[3:6]=2\n",
    "data.field.iloc[6:10]=3\n",
    "\n",
    "data.to_csv('age.csv')"
   ]
  },
  {
   "cell_type": "code",
   "execution_count": 5,
   "metadata": {},
   "outputs": [
    {
     "name": "stdout",
     "output_type": "stream",
     "text": [
      "0    20 to 24 years\n",
      "1    25 to 29 years\n",
      "2    30 to 34 years\n",
      "Name: Age group, dtype: object\n",
      "3    35 to 39 years\n",
      "4    40 to 44 years\n",
      "5    45 to 49 years\n",
      "Name: Age group, dtype: object\n",
      "6    50 to 54 years\n",
      "7    55 to 59 years\n",
      "8    60 to 64 years\n",
      "Name: Age group, dtype: object\n"
     ]
    }
   ],
   "source": [
    "label1 = data.loc[data['field']==1]['Age group']\n",
    "print(label1)\n",
    "\n",
    "label2 = data.loc[data['field']==2]['Age group']\n",
    "print(label2)\n",
    "\n",
    "label3 = data.loc[data['field']==3]['Age group']\n",
    "print(label3)"
   ]
  },
  {
   "cell_type": "code",
   "execution_count": 6,
   "metadata": {},
   "outputs": [],
   "source": [
    "label1 = \"20 to 34 years\"\n",
    "label2 = \"35 to 49 years\"\n",
    "label3 = \"50 to 64 years\"\n",
    "graphdata = pd.DataFrame(data.groupby('field').sum())"
   ]
  },
  {
   "cell_type": "code",
   "execution_count": 7,
   "metadata": {},
   "outputs": [
    {
     "data": {
      "text/html": [
       "<div>\n",
       "<style scoped>\n",
       "    .dataframe tbody tr th:only-of-type {\n",
       "        vertical-align: middle;\n",
       "    }\n",
       "\n",
       "    .dataframe tbody tr th {\n",
       "        vertical-align: top;\n",
       "    }\n",
       "\n",
       "    .dataframe thead th {\n",
       "        text-align: right;\n",
       "    }\n",
       "</style>\n",
       "<table border=\"1\" class=\"dataframe\">\n",
       "  <thead>\n",
       "    <tr style=\"text-align: right;\">\n",
       "      <th></th>\n",
       "      <th>2008</th>\n",
       "      <th>2010</th>\n",
       "      <th>2012</th>\n",
       "      <th>2014</th>\n",
       "      <th>2016</th>\n",
       "      <th>2018</th>\n",
       "    </tr>\n",
       "  </thead>\n",
       "  <tbody>\n",
       "    <tr>\n",
       "      <th>0</th>\n",
       "      <td>6744865</td>\n",
       "      <td>6962591</td>\n",
       "      <td>7141961</td>\n",
       "      <td>7284367</td>\n",
       "      <td>7341957</td>\n",
       "      <td>7561530</td>\n",
       "    </tr>\n",
       "    <tr>\n",
       "      <th>1</th>\n",
       "      <td>7603450</td>\n",
       "      <td>7465537</td>\n",
       "      <td>7331251</td>\n",
       "      <td>7215295</td>\n",
       "      <td>7183321</td>\n",
       "      <td>7299069</td>\n",
       "    </tr>\n",
       "    <tr>\n",
       "      <th>2</th>\n",
       "      <td>6490401</td>\n",
       "      <td>6901697</td>\n",
       "      <td>7228138</td>\n",
       "      <td>7524550</td>\n",
       "      <td>7713574</td>\n",
       "      <td>7760411</td>\n",
       "    </tr>\n",
       "  </tbody>\n",
       "</table>\n",
       "</div>"
      ],
      "text/plain": [
       "      2008     2010     2012     2014     2016     2018\n",
       "0  6744865  6962591  7141961  7284367  7341957  7561530\n",
       "1  7603450  7465537  7331251  7215295  7183321  7299069\n",
       "2  6490401  6901697  7228138  7524550  7713574  7760411"
      ]
     },
     "execution_count": 7,
     "metadata": {},
     "output_type": "execute_result"
    }
   ],
   "source": [
    "graphdata = graphdata.reset_index(drop=True)\n",
    "graphdata"
   ]
  },
  {
   "cell_type": "code",
   "execution_count": 8,
   "metadata": {},
   "outputs": [],
   "source": [
    "line1 = graphdata.iloc[0]\n",
    "line2 = graphdata.iloc[1]\n",
    "line3 = graphdata.iloc[2]\n",
    "x = graphdata.keys()"
   ]
  },
  {
   "cell_type": "code",
   "execution_count": 9,
   "metadata": {},
   "outputs": [
    {
     "data": {
      "image/png": "[encoded data removed]",
      "text/plain": [
       "<Figure size 432x288 with 1 Axes>"
      ]
     },
     "metadata": {
      "needs_background": "light"
     },
     "output_type": "display_data"
    }
   ],
   "source": [
    "plt.plot(x,line1,marker='.',linewidth=2,label=label1)\n",
    "plt.plot(x,line2,marker='.',linewidth=2,color='g',label=label2)\n",
    "plt.plot(x,line3,marker='.',linewidth=2, color='r',label=label3)\n",
    "plt.title(\"% Change in Age group\")\n",
    "plt.ylabel(\"Age group (Number of People)\")\n",
    "plt.xlabel(\"Years\")\n",
    "plt.grid()\n",
    "plt.legend()\n",
    "plt.savefig(\"ChangeinAgeGroup.png\")\n",
    "plt.show()"
   ]
  },
  {
   "cell_type": "code",
   "execution_count": null,
   "metadata": {},
   "outputs": [],
   "source": []
  }
 ],
 "metadata": {
  "kernelspec": {
   "display_name": "Python 3",
   "language": "python",
   "name": "python3"
  },
  "language_info": {
   "codemirror_mode": {
    "name": "ipython",
    "version": 3
   },
   "file_extension": ".py",
   "mimetype": "text/x-python",
   "name": "python",
   "nbconvert_exporter": "python",
   "pygments_lexer": "ipython3",
   "version": "3.7.3"
  }
 },
 "nbformat": 4,
 "nbformat_minor": 2
}
